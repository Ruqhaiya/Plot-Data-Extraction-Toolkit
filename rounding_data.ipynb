{
 "cells": [
  {
   "cell_type": "code",
   "execution_count": 2,
   "metadata": {},
   "outputs": [
    {
     "name": "stdout",
     "output_type": "stream",
     "text": [
      "Rounded data files created and saved in the 'rounded_data_files' directory.\n"
     ]
    }
   ],
   "source": [
    "import csv\n",
    "import os\n",
    "\n",
    "def round_val(value, threshold=0.08):\n",
    "    nearest_half = round(value * 2) / 2\n",
    "    if abs(value - nearest_half) <= threshold:\n",
    "        return nearest_half\n",
    "    return value\n",
    "\n",
    "# list of files\n",
    "plot_files = ['40_B', '42_A', '42_B', '45_A', '45_B', '45_C', '47_A', '47_B', '47_C']\n",
    "\n",
    "data_dir = 'plot_data_files'\n",
    "output_dir = 'rounded_data_files'\n",
    "\n",
    "os.makedirs(output_dir, exist_ok=True)\n",
    "\n",
    "#looping through each file to create rounded data files\n",
    "for plot_file in plot_files:\n",
    "    x_points = []\n",
    "    y_points = []\n",
    "    \n",
    "    file_path = os.path.join(data_dir, f'{plot_file}.csv')\n",
    "    \n",
    "    #extracting data from csv fikes\n",
    "    with open(file_path, newline='') as csvfile:\n",
    "        reader = csv.reader(csvfile)\n",
    "        for row in reader:\n",
    "            x, y = map(float, row)\n",
    "            x_points.append(x)\n",
    "            y_points.append(y)\n",
    "\n",
    "    # rounding x-axis values\n",
    "    x_points_rounded = [round_val(x) for x in x_points]\n",
    "\n",
    "    rounded_data = list(zip(x_points_rounded, y_points))\n",
    "    output_file_path = os.path.join(output_dir, f'{plot_file}_rounded.csv')\n",
    "    with open(output_file_path, 'w', newline='') as csvfile:\n",
    "        writer = csv.writer(csvfile)\n",
    "        writer.writerows(rounded_data)\n"
   ]
  },
  {
   "cell_type": "code",
   "execution_count": null,
   "metadata": {},
   "outputs": [],
   "source": []
  }
 ],
 "metadata": {
  "kernelspec": {
   "display_name": "base",
   "language": "python",
   "name": "python3"
  },
  "language_info": {
   "codemirror_mode": {
    "name": "ipython",
    "version": 3
   },
   "file_extension": ".py",
   "mimetype": "text/x-python",
   "name": "python",
   "nbconvert_exporter": "python",
   "pygments_lexer": "ipython3",
   "version": "3.11.4"
  }
 },
 "nbformat": 4,
 "nbformat_minor": 2
}
